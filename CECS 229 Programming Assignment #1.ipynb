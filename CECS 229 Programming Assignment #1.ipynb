{
 "cells": [
  {
   "cell_type": "markdown",
   "metadata": {},
   "source": [
    "# CECS 229: Programming Assignment #1\n",
    "\n",
    "#### Due Date: \n",
    "\n",
    "Sunday, 2/5 @ 11:59 PM\n",
    "\n",
    "#### Submission Instructions:\n",
    "\n",
    "To receive credit for this assignment, you must submit **to CodePost** this file converted to a Python script named `pa1.py`\n",
    "\n",
    "#### Objectives:\n",
    "\n",
    "1. Compute the quotient and remainder of two numbers.\n",
    "2. Apply numerical algorithms for computing the sum of two numbers in binary representation.\n",
    "3. Apply numerical algorithms for computing the modular exponentiation of a positive integer.\n",
    "\n"
   ]
  },
  {
   "cell_type": "markdown",
   "metadata": {},
   "source": [
    "--------------------------------\n",
    "\n",
    "#### Problem 2:\n",
    "\n",
    "Program a function `binary_add(a, b)` that computes the sum of the binary numbers  $$a = (a_{i-1} a_{i-2}, \\dots, a_0)_2$$ and $$b = (b_{j-1}, b_{j-2}, \\dots, b_0)_2$$ using the algorithm discussed in lecture.  Note that $a$ and $b$ may be of different lengths.\n",
    "\n",
    "No credit will be given to functions that employ any other implementation.  The function can not use built-in functions that already perform some kind of binary representation or addition of binary numbers.  For example, the function implementation can **not** use the functions `bin()` or `int(a, base=2)`.\n",
    "\n",
    "The function should satisfy the following:\n",
    "\n",
    "1. INPUT: \n",
    "    * `a` - a string of the 0's and 1's that make up the first binary number.  The string may contain spaces.\n",
    "    * `b` - a string of the 0's and 1's that make up the first binary number.  The string may contain spaces.\n",
    "\n",
    "    \n",
    "2. OUTPUT:\n",
    "    * the string of 0's and 1's that is the result of computing $a + b$.  The string must be separated into blocks of 4 characters or less, beginning at the end of the string.\n",
    "\n",
    " \n",
    "EXAMPLE: \n",
    "\n",
    "`>> binary_add( '10 1011' , '1 1011')`\n",
    "\n",
    "`'100 0110'`\n",
    "\n",
    "\n"
   ]
  },
  {
   "cell_type": "code",
   "execution_count": null,
   "metadata": {},
   "outputs": [],
   "source": [
    "def div_alg():\n",
    "    # FIXME: Implement this function\n",
    "    pass"
   ]
  },
  {
   "cell_type": "markdown",
   "metadata": {},
   "source": [
    "--------------------------------\n",
    "\n",
    "#### Problem 2:\n",
    "\n",
    "Program a function `binary_add(a, b)` that computes the sum of the binary numbers  $$a = (a_{i-1}, a_{i-2}, \\dots, a_0)_2$$ and $$b = (b_{j-1}, b_{j-2}, \\dots, b_0)_2$$ using the algorithm discussed in lecture.  No credit will be given to functions that employ any other implementation.  The function can not use built-in functions that already perform some kind of binary representation or addition of binary numbers.  For example, the function implementation can **not** use the functions `bin()` or `int(a, base=2)`.\n",
    "\n",
    "The function should satisfy the following:\n",
    "\n",
    "1. INPUT: \n",
    "    * `a` - a string of the 0's and 1's that make up the first binary number.  The string *may* contain spaces.\n",
    "    * `b` - a string of the 0's and 1's that make up the first binary number.  The string *may* contain spaces.\n",
    "\n",
    "    \n",
    "2. OUTPUT:\n",
    "    * the string of 0's and 1's that is the result of computing $a + b$.  The string must be separated by spaces into blocks of 4 characters or less, beginning at the end of the string.\n",
    "\n",
    " \n",
    "EXAMPLE: \n",
    "\n",
    "`>> binary_add( '10 1011' , '11011')`\n",
    "\n",
    "`'100 0110'`\n",
    "\n",
    "\n"
   ]
  },
  {
   "cell_type": "code",
   "execution_count": null,
   "metadata": {},
   "outputs": [],
   "source": [
    "def binary_add(a, b):\n",
    "    #FIXME: Implement this method\n",
    "    pass"
   ]
  },
  {
   "cell_type": "markdown",
   "metadata": {},
   "source": [
    "--------------------------------\n",
    "\n",
    "#### Problem 3:\n",
    "\n",
    "Program a function `mod_exp(b, n, m)` that computes $$b^n \\mod m$$ using the algorithm discussed in lecture.  No credit will be given to functions that employ any other implementation.  For example, if the function implementation simply consists of `b ** n % m`, no credit will be given.  \n",
    "\n",
    "The function should satisfy the following:\n",
    "\n",
    "1. INPUT: \n",
    "    * `b` - positive integer representing the base\n",
    "    * `n` - positive integer representing the exponent\n",
    "    * `m` - positive integer representing the modulo\n",
    "\n",
    "    \n",
    "2. OUTPUT:\n",
    "    * the computation of $b^n \\mod m$ if b, n, m are positive integers, 0 otherwise.\n",
    "\n",
    " \n",
    "EXAMPLE: \n",
    "\n",
    "`>> mod_exp( 3 , 644, 645 )`\n",
    "\n",
    "`36`\n",
    "\n",
    "\n"
   ]
  },
  {
   "cell_type": "code",
   "execution_count": null,
   "metadata": {},
   "outputs": [],
   "source": [
    "def mod_exp(b, n, m):\n",
    "    # FIXME: Implement this function\n",
    "    pass"
   ]
  }
 ],
 "metadata": {
  "kernelspec": {
   "display_name": "Python 3 (ipykernel)",
   "language": "python",
   "name": "python3"
  },
  "language_info": {
   "codemirror_mode": {
    "name": "ipython",
    "version": 3
   },
   "file_extension": ".py",
   "mimetype": "text/x-python",
   "name": "python",
   "nbconvert_exporter": "python",
   "pygments_lexer": "ipython3",
   "version": "3.8.8"
  }
 },
 "nbformat": 4,
 "nbformat_minor": 2
}
